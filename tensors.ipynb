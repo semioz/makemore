{
 "cells": [
  {
   "cell_type": "code",
   "execution_count": null,
   "metadata": {},
   "outputs": [],
   "source": [
    ">>> x=torch.empty(5,7,3)\n",
    ">>> y=torch.empty(5,7,3)\n",
    "# same shapes are always broadcastable (i.e. the above rules always hold)\n",
    "\n",
    ">>> x=torch.empty((0,))\n",
    ">>> y=torch.empty(2,2)\n",
    "# x and y are not broadcastable, because x does not have at least 1 dimension\n",
    "\n",
    "# can line up trailing dimensions\n",
    ">>> x=torch.empty(5,3,4,1)\n",
    ">>> y=torch.empty(  3,1,1)\n",
    "# x and y are broadcastable.\n",
    "# 1st trailing dimension: both have size 1\n",
    "# 2nd trailing dimension: y has size 1\n",
    "# 3rd trailing dimension: x size == y size\n",
    "# 4th trailing dimension: y dimension doesn't exist\n",
    "\n",
    "# but:\n",
    ">>> x=torch.empty(5,2,4,1)\n",
    ">>> y=torch.empty(  3,1,1)\n",
    "# x and y are not broadcastable, because in the 3rd trailing dimension 2 != 3"
   ]
  },
  {
   "cell_type": "code",
   "execution_count": null,
   "metadata": {},
   "outputs": [],
   "source": [
    "# can line up trailing dimensions to make reading easier\n",
    ">>> x=torch.empty(5,1,4,1)\n",
    ">>> y=torch.empty(  3,1,1)\n",
    ">>> (x+y).size()\n",
    "torch.Size([5, 3, 4, 1])\n",
    "\n",
    "# but not necessary:\n",
    ">>> x=torch.empty(1)\n",
    ">>> y=torch.empty(3,1,7)\n",
    ">>> (x+y).size()\n",
    "torch.Size([3, 1, 7])\n",
    "\n",
    ">>> x=torch.empty(5,2,4,1)\n",
    ">>> y=torch.empty(3,1,1)\n",
    ">>> (x+y).size()\n",
    "RuntimeError: The size of tensor a (2) must match the size of tensor b (3) at non-singleton dimension 1"
   ]
  }
 ],
 "metadata": {
  "language_info": {
   "name": "python"
  }
 },
 "nbformat": 4,
 "nbformat_minor": 2
}
