{
 "cells": [
  {
   "cell_type": "code",
   "execution_count": 7,
   "metadata": {},
   "outputs": [
    {
     "name": "stdout",
     "output_type": "stream",
     "text": [
      "Ones Tensor: \n",
      " tensor([[1, 1],\n",
      "        [1, 1]]) \n",
      "\n",
      "Random Tensor: \n",
      " tensor([[0.1771, 0.0848],\n",
      "        [0.1836, 0.7906]]) \n",
      "\n"
     ]
    }
   ],
   "source": [
    "import torch\n",
    "\n",
    "data = [[1, 2],[3, 4]]\n",
    "x_data = torch.tensor(data)\n",
    "\n",
    "x_ones = torch.ones_like(x_data) # retains the properties of x_data\n",
    "print(f\"Ones Tensor: \\n {x_ones} \\n\")\n",
    "\n",
    "x_rand = torch.rand_like(x_data, dtype=torch.float) # overrides the datatype of x_data\n",
    "print(f\"Random Tensor: \\n {x_rand} \\n\")"
   ]
  },
  {
   "cell_type": "code",
   "execution_count": 8,
   "metadata": {},
   "outputs": [
    {
     "name": "stdout",
     "output_type": "stream",
     "text": [
      "Shape of tensor: torch.Size([3, 4])\n",
      "Datatype of tensor: torch.float32\n",
      "Device tensor is stored on: cpu\n"
     ]
    }
   ],
   "source": [
    "tensor = torch.rand(3,4)\n",
    "\n",
    "print(f\"Shape of tensor: {tensor.shape}\")\n",
    "print(f\"Datatype of tensor: {tensor.dtype}\")\n",
    "print(f\"Device tensor is stored on: {tensor.device}\")"
   ]
  },
  {
   "cell_type": "code",
   "execution_count": 9,
   "metadata": {},
   "outputs": [
    {
     "name": "stdout",
     "output_type": "stream",
     "text": [
      "No GPU available\n"
     ]
    }
   ],
   "source": [
    "#By default, tensors are created on the CPU. We need to explicitly move tensors to the GPU using .to method (after checking for GPU availability)\n",
    "if torch.cuda.is_available():\n",
    "    tensor = tensor.to('cuda')\n",
    "else:\n",
    "    print(\"No GPU available\")"
   ]
  },
  {
   "cell_type": "code",
   "execution_count": 11,
   "metadata": {},
   "outputs": [
    {
     "name": "stdout",
     "output_type": "stream",
     "text": [
      "tensor([[0.3113, 0.4934, 0.5368, 0.1463, 0.3113, 0.4934, 0.5368, 0.1463, 0.3113,\n",
      "         0.4934, 0.5368, 0.1463],\n",
      "        [0.6478, 0.4330, 0.8947, 0.5336, 0.6478, 0.4330, 0.8947, 0.5336, 0.6478,\n",
      "         0.4330, 0.8947, 0.5336],\n",
      "        [0.2687, 0.3853, 0.3881, 0.3062, 0.2687, 0.3853, 0.3881, 0.3062, 0.2687,\n",
      "         0.3853, 0.3881, 0.3062]])\n"
     ]
    }
   ],
   "source": [
    "#Joining tensors You can use torch.cat to concatenate a sequence of tensors along a given dimension. \n",
    "# See also torch.stack, another tensor joining operator that is subtly different from torch.cat\n",
    "t1 = torch.cat([tensor, tensor, tensor], dim=1)\n",
    "print(t1)"
   ]
  },
  {
   "cell_type": "code",
   "execution_count": 15,
   "metadata": {},
   "outputs": [
    {
     "name": "stdout",
     "output_type": "stream",
     "text": [
      "transpose of tensor: tensor([[0.3113, 0.6478, 0.2687],\n",
      "        [0.4934, 0.4330, 0.3853],\n",
      "        [0.5368, 0.8947, 0.3881],\n",
      "        [0.1463, 0.5336, 0.3062]])\n"
     ]
    },
    {
     "data": {
      "text/plain": [
       "tensor([[0.0969, 0.2435, 0.2882, 0.0214],\n",
       "        [0.4197, 0.1875, 0.8005, 0.2847],\n",
       "        [0.0722, 0.1485, 0.1507, 0.0938]])"
      ]
     },
     "execution_count": 15,
     "metadata": {},
     "output_type": "execute_result"
    }
   ],
   "source": [
    "# This computes the matrix multiplication between two tensors. y1, y2, y3 will have the same value\n",
    "# ``tensor.T`` returns the transpose of a tensor\n",
    "y1 = tensor @ tensor.T\n",
    "print('transpose of tensor:', tensor.T)\n",
    "y2 = tensor.matmul(tensor.T)\n",
    "\n",
    "y3 = torch.rand_like(y1)\n",
    "torch.matmul(tensor, tensor.T, out=y3)\n",
    "\n",
    "\n",
    "# This computes the element-wise product. z1, z2, z3 will have the same value\n",
    "z1 = tensor * tensor\n",
    "z2 = tensor.mul(tensor)\n",
    "\n",
    "z3 = torch.rand_like(tensor)\n",
    "torch.mul(tensor, tensor, out=z3)"
   ]
  },
  {
   "cell_type": "code",
   "execution_count": null,
   "metadata": {},
   "outputs": [],
   "source": [
    "# Broadcasting examples https://pytorch.org/docs/stable/notes/broadcasting.html#broadcasting-semantics\n",
    "\n",
    ">>> x=torch.empty(5,7,3)\n",
    ">>> y=torch.empty(5,7,3)\n",
    "# same shapes are always broadcastable (i.e. the above rules always hold)\n",
    "\n",
    ">>> x=torch.empty((0,))\n",
    ">>> y=torch.empty(2,2)\n",
    "# x and y are not broadcastable, because x does not have at least 1 dimension\n",
    "\n",
    "# can line up trailing dimensions\n",
    ">>> x=torch.empty(5,3,4,1)\n",
    ">>> y=torch.empty(  3,1,1)\n",
    "# x and y are broadcastable.\n",
    "# 1st trailing dimension: both have size 1\n",
    "# 2nd trailing dimension: y has size 1\n",
    "# 3rd trailing dimension: x size == y size\n",
    "# 4th trailing dimension: y dimension doesn't exist\n",
    "\n",
    "# but:\n",
    ">>> x=torch.empty(5,2,4,1)\n",
    ">>> y=torch.empty(  3,1,1)\n",
    "# x and y are not broadcastable, because in the 3rd trailing dimension 2 != 3"
   ]
  },
  {
   "cell_type": "code",
   "execution_count": null,
   "metadata": {},
   "outputs": [],
   "source": [
    "# can line up trailing dimensions to make reading easier\n",
    ">>> x=torch.empty(5,1,4,1)\n",
    ">>> y=torch.empty(  3,1,1)\n",
    ">>> (x+y).size()\n",
    "torch.Size([5, 3, 4, 1])\n",
    "\n",
    "# but not necessary:\n",
    ">>> x=torch.empty(1)\n",
    ">>> y=torch.empty(3,1,7)\n",
    ">>> (x+y).size()\n",
    "torch.Size([3, 1, 7])\n",
    "\n",
    ">>> x=torch.empty(5,2,4,1)\n",
    ">>> y=torch.empty(3,1,1)\n",
    ">>> (x+y).size()\n",
    "RuntimeError: The size of tensor a (2) must match the size of tensor b (3) at non-singleton dimension 1"
   ]
  }
 ],
 "metadata": {
  "kernelspec": {
   "display_name": "base",
   "language": "python",
   "name": "python3"
  },
  "language_info": {
   "codemirror_mode": {
    "name": "ipython",
    "version": 3
   },
   "file_extension": ".py",
   "mimetype": "text/x-python",
   "name": "python",
   "nbconvert_exporter": "python",
   "pygments_lexer": "ipython3",
   "version": "3.11.5"
  }
 },
 "nbformat": 4,
 "nbformat_minor": 2
}
